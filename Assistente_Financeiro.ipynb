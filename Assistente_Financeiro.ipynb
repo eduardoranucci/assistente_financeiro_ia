{
  "nbformat": 4,
  "nbformat_minor": 0,
  "metadata": {
    "colab": {
      "provenance": []
    },
    "kernelspec": {
      "name": "python3",
      "display_name": "Python 3"
    },
    "language_info": {
      "name": "python"
    }
  },
  "cells": [
    {
      "cell_type": "code",
      "execution_count": null,
      "metadata": {
        "colab": {
          "base_uri": "https://localhost:8080/"
        },
        "collapsed": true,
        "id": "iAPLf3_azxQX",
        "outputId": "9cc0a052-444c-4a0f-a312-112d1ed6b3ab"
      },
      "outputs": [
        {
          "output_type": "stream",
          "name": "stdout",
          "text": [
            "\u001b[?25l   \u001b[90m━━━━━━━━━━━━━━━━━━━━━━━━━━━━━━━━━━━━━━━━\u001b[0m \u001b[32m0.0/1.2 MB\u001b[0m \u001b[31m?\u001b[0m eta \u001b[36m-:--:--\u001b[0m\r\u001b[2K   \u001b[91m━━━━━━━━━━━━━━━━━━━━━━━━━━━━━━━━━━━━━━━\u001b[0m\u001b[91m╸\u001b[0m \u001b[32m1.2/1.2 MB\u001b[0m \u001b[31m55.9 MB/s\u001b[0m eta \u001b[36m0:00:01\u001b[0m\r\u001b[2K   \u001b[90m━━━━━━━━━━━━━━━━━━━━━━━━━━━━━━━━━━━━━━━━\u001b[0m \u001b[32m1.2/1.2 MB\u001b[0m \u001b[31m28.7 MB/s\u001b[0m eta \u001b[36m0:00:00\u001b[0m\n",
            "\u001b[?25h\u001b[?25l   \u001b[90m━━━━━━━━━━━━━━━━━━━━━━━━━━━━━━━━━━━━━━━━\u001b[0m \u001b[32m0.0/232.1 kB\u001b[0m \u001b[31m?\u001b[0m eta \u001b[36m-:--:--\u001b[0m\r\u001b[2K   \u001b[90m━━━━━━━━━━━━━━━━━━━━━━━━━━━━━━━━━━━━━━━━\u001b[0m \u001b[32m232.1/232.1 kB\u001b[0m \u001b[31m15.0 MB/s\u001b[0m eta \u001b[36m0:00:00\u001b[0m\n",
            "\u001b[?25h\u001b[?25l   \u001b[90m━━━━━━━━━━━━━━━━━━━━━━━━━━━━━━━━━━━━━━━━\u001b[0m \u001b[32m0.0/95.2 kB\u001b[0m \u001b[31m?\u001b[0m eta \u001b[36m-:--:--\u001b[0m\r\u001b[2K   \u001b[90m━━━━━━━━━━━━━━━━━━━━━━━━━━━━━━━━━━━━━━━━\u001b[0m \u001b[32m95.2/95.2 kB\u001b[0m \u001b[31m7.5 MB/s\u001b[0m eta \u001b[36m0:00:00\u001b[0m\n",
            "\u001b[?25h\u001b[?25l   \u001b[90m━━━━━━━━━━━━━━━━━━━━━━━━━━━━━━━━━━━━━━━━\u001b[0m \u001b[32m0.0/217.1 kB\u001b[0m \u001b[31m?\u001b[0m eta \u001b[36m-:--:--\u001b[0m\r\u001b[2K   \u001b[90m━━━━━━━━━━━━━━━━━━━━━━━━━━━━━━━━━━━━━━━━\u001b[0m \u001b[32m217.1/217.1 kB\u001b[0m \u001b[31m15.3 MB/s\u001b[0m eta \u001b[36m0:00:00\u001b[0m\n",
            "\u001b[2K   \u001b[90m━━━━━━━━━━━━━━━━━━━━━━━━━━━━━━━━━━━━━━━━\u001b[0m \u001b[32m334.1/334.1 kB\u001b[0m \u001b[31m23.1 MB/s\u001b[0m eta \u001b[36m0:00:00\u001b[0m\n",
            "\u001b[2K   \u001b[90m━━━━━━━━━━━━━━━━━━━━━━━━━━━━━━━━━━━━━━━━\u001b[0m \u001b[32m125.1/125.1 kB\u001b[0m \u001b[31m10.1 MB/s\u001b[0m eta \u001b[36m0:00:00\u001b[0m\n",
            "\u001b[2K   \u001b[90m━━━━━━━━━━━━━━━━━━━━━━━━━━━━━━━━━━━━━━━━\u001b[0m \u001b[32m65.8/65.8 kB\u001b[0m \u001b[31m4.7 MB/s\u001b[0m eta \u001b[36m0:00:00\u001b[0m\n",
            "\u001b[2K   \u001b[90m━━━━━━━━━━━━━━━━━━━━━━━━━━━━━━━━━━━━━━━━\u001b[0m \u001b[32m119.0/119.0 kB\u001b[0m \u001b[31m8.0 MB/s\u001b[0m eta \u001b[36m0:00:00\u001b[0m\n",
            "\u001b[2K   \u001b[90m━━━━━━━━━━━━━━━━━━━━━━━━━━━━━━━━━━━━━━━━\u001b[0m \u001b[32m194.9/194.9 kB\u001b[0m \u001b[31m14.5 MB/s\u001b[0m eta \u001b[36m0:00:00\u001b[0m\n",
            "\u001b[2K   \u001b[90m━━━━━━━━━━━━━━━━━━━━━━━━━━━━━━━━━━━━━━━━\u001b[0m \u001b[32m62.5/62.5 kB\u001b[0m \u001b[31m4.4 MB/s\u001b[0m eta \u001b[36m0:00:00\u001b[0m\n",
            "\u001b[2K   \u001b[90m━━━━━━━━━━━━━━━━━━━━━━━━━━━━━━━━━━━━━━━━\u001b[0m \u001b[32m103.3/103.3 kB\u001b[0m \u001b[31m8.6 MB/s\u001b[0m eta \u001b[36m0:00:00\u001b[0m\n",
            "\u001b[2K   \u001b[90m━━━━━━━━━━━━━━━━━━━━━━━━━━━━━━━━━━━━━━━━\u001b[0m \u001b[32m44.4/44.4 kB\u001b[0m \u001b[31m3.1 MB/s\u001b[0m eta \u001b[36m0:00:00\u001b[0m\n",
            "\u001b[2K   \u001b[90m━━━━━━━━━━━━━━━━━━━━━━━━━━━━━━━━━━━━━━━━\u001b[0m \u001b[32m72.0/72.0 kB\u001b[0m \u001b[31m6.4 MB/s\u001b[0m eta \u001b[36m0:00:00\u001b[0m\n",
            "\u001b[?25h"
          ]
        }
      ],
      "source": [
        "# Instalando as libs\n",
        "\n",
        "%pip install -q google-genai\n",
        "%pip install -q google-adk"
      ]
    },
    {
      "cell_type": "code",
      "source": [
        "# Importações\n",
        "\n",
        "from google.adk.sessions import InMemorySessionService\n",
        "from IPython.display import display, Markdown\n",
        "from google.adk.tools import google_search\n",
        "from google.adk.runners import Runner\n",
        "from google.adk.agents import Agent\n",
        "from google.colab import userdata\n",
        "import plotly.graph_objects as go\n",
        "#import matplotlib.pyplot as plt\n",
        "from google.genai import types\n",
        "from datetime import date\n",
        "from google import genai\n",
        "import textwrap\n",
        "import requests\n",
        "import warnings\n",
        "import json\n",
        "import os\n",
        "\n",
        "warnings.filterwarnings(\"ignore\")"
      ],
      "metadata": {
        "id": "fur2vQIyBlue"
      },
      "execution_count": null,
      "outputs": []
    },
    {
      "cell_type": "code",
      "source": [
        "# Configura o cliente da SDK do Gemini\n",
        "\n",
        "os.environ[\"GOOGLE_API_KEY\"] = userdata.get('GOOGLE_API_KEY')\n",
        "\n",
        "client = genai.Client()\n",
        "\n",
        "MODEL = \"gemini-2.0-flash\""
      ],
      "metadata": {
        "id": "V21ZMxuRBnPs"
      },
      "execution_count": null,
      "outputs": []
    },
    {
      "cell_type": "code",
      "source": [
        "response = client.models.generate_content(\n",
        "    model=MODEL,\n",
        "    contents='Quando é a próxima Imersão IA com Google Gemini da Alura?',\n",
        ")\n",
        "\n",
        "display(Markdown(f\"Resposta:\\n {response.text}\"))"
      ],
      "metadata": {
        "id": "sUJmkntEBscU"
      },
      "execution_count": null,
      "outputs": []
    },
    {
      "cell_type": "code",
      "source": [
        "# Função auxiliar que envia uma mensagem para um agente via Runner e retorna a resposta final\n",
        "def call_agent(agent: Agent, message_text: str) -> str:\n",
        "    # Cria um serviço de sessão em memória\n",
        "    session_service = InMemorySessionService()\n",
        "    # Cria uma nova sessão (você pode personalizar os IDs conforme necessário)\n",
        "    session = session_service.create_session(app_name=agent.name, user_id=\"user1\", session_id=\"session1\")\n",
        "    # Cria um Runner para o agente\n",
        "    runner = Runner(agent=agent, app_name=agent.name, session_service=session_service)\n",
        "    # Cria o conteúdo da mensagem de entrada\n",
        "    content = types.Content(role=\"user\", parts=[types.Part(text=message_text)])\n",
        "\n",
        "    final_response = \"\"\n",
        "    # Itera assincronamente pelos eventos retornados durante a execução do agente\n",
        "    for event in runner.run(user_id=\"user1\", session_id=\"session1\", new_message=content):\n",
        "        if event.is_final_response():\n",
        "          for part in event.content.parts:\n",
        "            if part.text is not None:\n",
        "              final_response += part.text\n",
        "              final_response += \"\\n\"\n",
        "    return final_response"
      ],
      "metadata": {
        "id": "fXxAU7krCYrV"
      },
      "execution_count": null,
      "outputs": []
    },
    {
      "cell_type": "code",
      "source": [
        "# Função auxiliar para exibir texto formatado em Markdown no Colab\n",
        "def to_markdown(text):\n",
        "  text = text.replace('•', '  *')\n",
        "  return Markdown(textwrap.indent(text, '> ', predicate=lambda _: True))"
      ],
      "metadata": {
        "id": "867UprJPCawg"
      },
      "execution_count": null,
      "outputs": []
    },
    {
      "cell_type": "code",
      "source": [
        "# Agente 01 - Buscador de Métodos Financeiros\n",
        "def agente_buscador(renda_mensal):\n",
        "\n",
        "    buscador = Agent(\n",
        "        name=\"agente_buscador\",\n",
        "        model=\"gemini-2.0-flash\",\n",
        "        instruction=\"\"\"\n",
        "        Você é um assistente de pesquisa especializado em finanças pessoais.\n",
        "        Sua tarefa é usar a ferramenta de busca do Google (google_search) para encontrar os 5 métodos mais efetivos\n",
        "         e amplamente recomendados para organização financeira pessoal, considerando a renda mensal abaixo.\n",
        "\n",
        "        Ao realizar a pesquisa, priorize métodos que sejam:\n",
        "        - Especificamente adequados para o nível de renda fornecido (por exemplo, métodos para baixa renda, renda média, alta renda).\n",
        "        - Os métodos devem ser aplicáveis à realidade brasileira (ex.: considerar inflação, juros altos, etc.).\n",
        "        - Baseados em princípios sólidos de gestão financeira.\n",
        "        - Frequentemente mencionados e bem avaliados por especialistas e usuários.\n",
        "        - Que ofereçam exemplos ou estudos de caso relevantes para o nível de renda em questão.\n",
        "        - Descarte métodos genéricos ou irreais (ex.: \"ganhe mais dinheiro\" sem ações concretas).\n",
        "\n",
        "        Retorne uma lista concisa com o nome de cada método encontrado e um breve resumo de sua abordagem principal,\n",
        "        mencionando como ele se aplica a faixas de renda semelhantes à do usuário, se essa informação estiver disponível.\n",
        "        A lista deve estar em formato Markdown.\n",
        "        \"\"\",\n",
        "        description=\"Agente que busca métodos financeiros indicados a uma renda mensal no Google\",\n",
        "        tools=[google_search]\n",
        "    )\n",
        "\n",
        "    return call_agent(buscador, f\"Renda mensal: {renda_mensal}\")"
      ],
      "metadata": {
        "id": "qZQo-FvRC50j"
      },
      "execution_count": null,
      "outputs": []
    },
    {
      "cell_type": "code",
      "source": [
        "# Agente 02 - Matemático\n",
        "def agente_matematico(renda_mensal, gastos):\n",
        "\n",
        "    matematico = Agent(\n",
        "        name=\"agente_matematico\",\n",
        "        model=\"gemini-2.0-flash\",\n",
        "        instruction=\"\"\"\n",
        "        Você é um analista matemático financeiro pessoal. Sua tarefa é receber a renda mensal do usuário\n",
        "        e seus gastos detalhados por categoria. Com base nessas informações,\n",
        "        você deve realizar os seguintes cálculos e análises:\n",
        "\n",
        "        1. Calcule o total de gastos mensais.\n",
        "        2. Calcule a porcentagem que cada categoria de gasto representa em relação à renda mensal total.\n",
        "        3. Calcule a diferença entre a renda mensal e o total de gastos (saldo mensal).\n",
        "        4. Calcule a taxa de poupança mensal atual (se o saldo for positivo).\n",
        "        5. Identifique as três maiores categorias de gastos em termos percentuais.\n",
        "\n",
        "        Retorne um dicionário ou estrutura de dados organizada contendo:\n",
        "        - Renda Mensal: [valor]\n",
        "        - Total de Gastos Mensais: [valor]\n",
        "        - Porcentagem de Gasto por Categoria: {categoria1: [porcentagem], categoria2: [porcentagem], ...}\n",
        "        - Saldo Mensal: [valor]\n",
        "        - Taxa de Poupança Mensal: [porcentagem] (se aplicável)\n",
        "        - Maiores Categorias de Gasto: [categoria1, categoria2, categoria3]\n",
        "        \"\"\",\n",
        "        description=\"Agente que analisa as finanças do usuário.\",\n",
        "    )\n",
        "\n",
        "    return call_agent(matematico, f\"Renda mensal: {renda_mensal}\\nGastos: {gastos}\")"
      ],
      "metadata": {
        "id": "GHkTTl6OD5Xk"
      },
      "execution_count": null,
      "outputs": []
    },
    {
      "cell_type": "code",
      "source": [
        "# Agente 03 - Analista\n",
        "def agente_analista(dados, metodos):\n",
        "\n",
        "    analista = Agent(\n",
        "        name=\"agente_analista\",\n",
        "        model=\"gemini-2.0-flash\",\n",
        "        instruction=\"\"\"\n",
        "        Você é um consultor financeiro pessoal com expertise em diferentes métodos de organização financeira.\n",
        "        Sua tarefa é analisar os dados financeiros do usuário e os métodos de organização financeira encontrados.\n",
        "\n",
        "        Com base nessa análise, você deve:\n",
        "        1. Avaliar a situação financeira atual do usuário, identificando pontos fortes e áreas de melhoria (por exemplo, alta porcentagem de gastos em lazer, baixa taxa de poupança).\n",
        "        2. Comparar os padrões de gastos do usuário com os princípios de cada método de organização financeira.\n",
        "        3. Selecionar o método que melhor se adapta ao perfil financeiro do usuário, considerando seus maiores gastos,\n",
        "        sua taxa de poupança atual e o potencial de implementação do método. Justifique sua escolha com base nos dados analisados.\n",
        "\n",
        "        Retorne um dicionário ou estrutura de dados contendo:\n",
        "        - Análise da Situação Financeira: [um breve resumo da situação]\n",
        "        - Método Recomendado: [nome do método]\n",
        "        - Justificativa do Método: [explicação de por que este método é o mais adequado]\n",
        "        O retorno deve estar em formato Markdown.\n",
        "        \"\"\",\n",
        "        description=\"Agente que analisa as finanças do usuário.\",\n",
        "    )\n",
        "\n",
        "    return call_agent(analista, f\"Dados: {dados}\\nMétodos: {metodos}\")"
      ],
      "metadata": {
        "id": "7IMfly3DD78u"
      },
      "execution_count": null,
      "outputs": []
    },
    {
      "cell_type": "code",
      "source": [
        "# Agente 04 - Orientador\n",
        "def agente_orientador(dados, analise):\n",
        "\n",
        "    orientador = Agent(\n",
        "        name=\"agente_orientador\",\n",
        "        model=\"gemini-2.0-flash\",\n",
        "        instruction=\"\"\"\n",
        "        Você é um orientador financeiro pessoal dedicado a ajudar os usuários a melhorar sua saúde financeira.\n",
        "        Sua tarefa é receber a análise do Agente Analista e os dados financeiros do Agente Matemático para fornecer orientações claras e práticas ao usuário,\n",
        "        juntamente com os dados estruturados necessários para a criação de gráficos.\n",
        "\n",
        "        Você deve retornar um dicionário contendo as seguintes chaves:\n",
        "\n",
        "        1.  'orientacao': Uma string contendo:\n",
        "            A explicação detalhada do método de organização financeira recomendado, seus princípios e como o usuário pode implementá-lo.\n",
        "            Sugestões específicas e acionáveis nos hábitos de gastos do usuário, com foco nas maiores categorias identificadas.\n",
        "            Quantifique o potencial de economia dessas mudanças, se possível.\n",
        "            A mensagem deve ser clara e motivadora para o usuário\n",
        "\n",
        "        2.  'dados_grafico_projecao': Um dicionário com os dados formatados para criar um gráfico de barras que represente a projeção da situação financeira do usuário após aplicar o método recomendado e seguir as mudanças sugeridas. **Este dicionário deve incluir todas as categorias de gasto presentes em 'dados_grafico_atual' (com os mesmos nomes), com seus valores ajustados de acordo com as orientações fornecidas. Novas categorias, como 'Poupança/Investimentos' ou 'Fundo de Emergência', podem ser adicionadas, desde que a soma de todos os valores projetados (incluindo as novas categorias) nunca ultrapasse o valor total da renda mensal.** Campos obrigatórios:\n",
        "            'labels': Lista com os nomes das categorias de gasto projetadas (devem incluir todas as categorias de 'dados_grafico_atual' com os mesmos nomes, além de quaisquer novas categorias como 'Poupança/Investimentos').\n",
        "            'valores': Lista com os valores em reais correspondentes a cada categoria, coerentes com os limites definidos pelo método e sem ultrapassar a renda. Os valores das categorias de gasto originais devem ser mantidos ou ajustados conforme as sugestões, mas as categorias devem permanecer.\n",
        "            'titulo': Título do gráfico (ex: 'Projeção Financeira Após Mudanças').\n",
        "\n",
        "        Certifique-se de que os dados nos dicionários `'dados_grafico_atual'` e `'dados_grafico_projecao'` estejam organizados de forma clara e lógica para facilitar a criação dos gráficos em um ambiente externo.\n",
        "        \"\"\",\n",
        "        description=\"Agente que orienta o usuário a como melhorar sua situação financeira.\",\n",
        "    )\n",
        "\n",
        "    return call_agent(orientador, f\"Dados: {dados}\\nAnálise: {analise}\")"
      ],
      "metadata": {
        "id": "2isQTrFbFTNr"
      },
      "execution_count": null,
      "outputs": []
    },
    {
      "cell_type": "code",
      "source": [
        "def valida_valor(valor):\n",
        "  try:\n",
        "    if type(valor) == str:\n",
        "        valor = float(valor.replace(',', '.'))\n",
        "    if valor <= 0:\n",
        "      print('\\n⚠️ Valor deve ser maior que zero.')\n",
        "      return False\n",
        "    return valor\n",
        "  except ValueError:\n",
        "    print('\\n⚠️ Valor informado é invalido.')\n",
        "    return False\n"
      ],
      "metadata": {
        "id": "UObu1VQ1PHM4"
      },
      "execution_count": null,
      "outputs": []
    },
    {
      "cell_type": "code",
      "source": [
        "print('🚀 Iniciando o Sistema de Auxílio Financeiro com 4 Agentes 🚀')\n",
        "\n",
        "renda_informada = False;\n",
        "while not renda_informada:\n",
        "\n",
        "  renda_mensal = valida_valor(input(\"\\n❓ Por favor, digite a sua renda mensal (ex: 1500,00): \"))\n",
        "  if renda_mensal:\n",
        "    print(f'\\nRenda informada: R$ {renda_mensal}')\n",
        "    renda_informada = True\n",
        "\n",
        "gastos = {}\n",
        "while True:\n",
        "  nome_gasto = ''\n",
        "  while not nome_gasto or nome_gasto.strip() == '' or nome_gasto.isdigit():\n",
        "    nome_gasto = input(\"\\n❓ Por favor, digite o nome do gasto que quer incluir (ex: moradia): \").strip()\n",
        "    if not nome_gasto or nome_gasto.isdigit():\n",
        "      print(\"⚠️ Nome inválido. Digite um nome de categoria válido (ex: moradia, transporte).\")\n",
        "  valor_gasto = 0\n",
        "  while not valor_gasto:\n",
        "    valor_gasto = valida_valor(input(\"❓ Por favor, digite o valor do gasto (ex: 600,00): \"))\n",
        "  if valor_gasto:\n",
        "    gastos[nome_gasto] = valor_gasto\n",
        "    print(f'\\nGasto informado: {nome_gasto} - R$ {valor_gasto}')\n",
        "    if len(gastos) >= 3:\n",
        "      continuar = input(\"\\n❓ Gostaria de incluir mais um tipo de gasto? (S/N) \")\n",
        "      if continuar.upper() == 'S':\n",
        "        continue\n",
        "      else:\n",
        "        break\n",
        "\n",
        "print(f'\\nRenda informada: R$ {renda_mensal}')\n",
        "print(f'Gastos informados: {gastos}')\n",
        "print('\\nNossos agentes irão começar a analisar os dados...')\n",
        "\n",
        "buscador = agente_buscador(renda_mensal)\n",
        "print('\\n✅ Melhores métodos para sua renda mensal encontrados!')\n",
        "\n",
        "matematico = agente_matematico(renda_mensal, gastos)\n",
        "print('\\n✅ Cálculos realizados!')\n",
        "\n",
        "analista = agente_analista(matematico, buscador)\n",
        "print('\\n✅ Análise realizada!')\n",
        "\n",
        "orientador = agente_orientador(matematico, analista)\n",
        "#display(Markdown(orientador))\n",
        "\n",
        "inicio_json = orientador.find('{')\n",
        "fim_json = orientador.rfind('}')\n",
        "\n",
        "# Extrair apenas a parte do JSON\n",
        "if inicio_json != -1 and fim_json != -1:\n",
        "    json_string = orientador[inicio_json : fim_json + 1]\n",
        "    try:\n",
        "        # Converter a string JSON para um dicionário Python\n",
        "        resposta_orientador = json.loads(json_string)\n",
        "\n",
        "        # Acessando a orientação para o usuário\n",
        "        orientacao_usuario = resposta_orientador['orientacao']\n",
        "        print('\\n📈 Orientação do Agente Orientador 📈\\n')\n",
        "        display(Markdown(orientacao_usuario))\n",
        "\n",
        "        # Acessando os dados para o gráfico da situação atual\n",
        "        labels = list(gastos.keys())\n",
        "        valores = list(gastos.values())\n",
        "\n",
        "        # Gráfico da situação atual\n",
        "        fig_atual = go.Figure()\n",
        "\n",
        "        fig_atual.add_trace(go.Bar(\n",
        "            x=labels,\n",
        "            y=valores,\n",
        "            name='Gastos Atuais',\n",
        "            marker_color='indianred'\n",
        "        ))\n",
        "\n",
        "        fig_atual.update_layout(\n",
        "            title=\"Situação Financeira Atual\",\n",
        "            xaxis_title=\"Categorias\",\n",
        "            yaxis_title=\"Valores (R$)\",\n",
        "            barmode='group'\n",
        "        )\n",
        "\n",
        "        fig_atual.show()\n",
        "\n",
        "        print()\n",
        "\n",
        "        dados_projecao = resposta_orientador['dados_grafico_projecao']\n",
        "        labels_projecao = dados_projecao['labels']\n",
        "        valores_projecao = dados_projecao['valores']\n",
        "        titulo_projecao = dados_projecao['titulo']\n",
        "\n",
        "        # Gráfico da projeção\n",
        "        fig_proj = go.Figure()\n",
        "\n",
        "        fig_proj.add_trace(go.Bar(\n",
        "            x=dados_projecao['labels'],\n",
        "            y=dados_projecao['valores'],\n",
        "            name='Projeção',\n",
        "            marker_color='royalblue'\n",
        "        ))\n",
        "\n",
        "        fig_proj.update_layout(\n",
        "            title=dados_projecao['titulo'],\n",
        "            xaxis_title=\"Categorias\",\n",
        "            yaxis_title=\"Valores (R$)\",\n",
        "            barmode='group'\n",
        "        )\n",
        "\n",
        "        fig_proj.show()\n",
        "\n",
        "    except json.JSONDecodeError as e:\n",
        "        print(f\"Erro ao decodificar JSON: {e}\")\n",
        "        print(f\"String JSON com problema: {json_string}\")\n",
        "else:\n",
        "    print(\"Não foi possível encontrar um objeto JSON válido na string.\")\n"
      ],
      "metadata": {
        "id": "vcFSOxiUGEdz",
        "colab": {
          "base_uri": "https://localhost:8080/",
          "height": 634
        },
        "outputId": "8a76c6db-a9fa-425d-92c2-a044b4bc786b"
      },
      "execution_count": 105,
      "outputs": [
        {
          "name": "stdout",
          "output_type": "stream",
          "text": [
            "🚀 Iniciando o Sistema de Auxílio Financeiro com 4 Agentes 🚀\n",
            "\n",
            "❓ Por favor, digite a sua renda mensal (ex: 1500,00): 1000\n",
            "\n",
            "Renda informada: R$ 1000.0\n",
            "\n",
            "❓ Por favor, digite o nome do gasto que quer incluir (ex: moradia): \n",
            "⚠️ Nome inválido. Digite um nome de categoria válido (ex: moradia, transporte).\n",
            "\n",
            "❓ Por favor, digite o nome do gasto que quer incluir (ex: moradia): 000\n",
            "⚠️ Nome inválido. Digite um nome de categoria válido (ex: moradia, transporte).\n",
            "\n",
            "❓ Por favor, digite o nome do gasto que quer incluir (ex: moradia):      152121\n",
            "⚠️ Nome inválido. Digite um nome de categoria válido (ex: moradia, transporte).\n",
            "\n",
            "❓ Por favor, digite o nome do gasto que quer incluir (ex: moradia): moradia\n"
          ]
        },
        {
          "output_type": "error",
          "ename": "KeyboardInterrupt",
          "evalue": "Interrupted by user",
          "traceback": [
            "\u001b[0;31m---------------------------------------------------------------------------\u001b[0m",
            "\u001b[0;31mKeyboardInterrupt\u001b[0m                         Traceback (most recent call last)",
            "\u001b[0;32m<ipython-input-105-e4380170c547>\u001b[0m in \u001b[0;36m<cell line: 0>\u001b[0;34m()\u001b[0m\n\u001b[1;32m     18\u001b[0m   \u001b[0mvalor_gasto\u001b[0m \u001b[0;34m=\u001b[0m \u001b[0;36m0\u001b[0m\u001b[0;34m\u001b[0m\u001b[0;34m\u001b[0m\u001b[0m\n\u001b[1;32m     19\u001b[0m   \u001b[0;32mwhile\u001b[0m \u001b[0;32mnot\u001b[0m \u001b[0mvalor_gasto\u001b[0m\u001b[0;34m:\u001b[0m\u001b[0;34m\u001b[0m\u001b[0;34m\u001b[0m\u001b[0m\n\u001b[0;32m---> 20\u001b[0;31m     \u001b[0mvalor_gasto\u001b[0m \u001b[0;34m=\u001b[0m \u001b[0mvalida_valor\u001b[0m\u001b[0;34m(\u001b[0m\u001b[0minput\u001b[0m\u001b[0;34m(\u001b[0m\u001b[0;34m\"❓ Por favor, digite o valor do gasto (ex: 600,00): \"\u001b[0m\u001b[0;34m)\u001b[0m\u001b[0;34m)\u001b[0m\u001b[0;34m\u001b[0m\u001b[0;34m\u001b[0m\u001b[0m\n\u001b[0m\u001b[1;32m     21\u001b[0m   \u001b[0;32mif\u001b[0m \u001b[0mvalor_gasto\u001b[0m\u001b[0;34m:\u001b[0m\u001b[0;34m\u001b[0m\u001b[0;34m\u001b[0m\u001b[0m\n\u001b[1;32m     22\u001b[0m     \u001b[0mgastos\u001b[0m\u001b[0;34m[\u001b[0m\u001b[0mnome_gasto\u001b[0m\u001b[0;34m]\u001b[0m \u001b[0;34m=\u001b[0m \u001b[0mvalor_gasto\u001b[0m\u001b[0;34m\u001b[0m\u001b[0;34m\u001b[0m\u001b[0m\n",
            "\u001b[0;32m/usr/local/lib/python3.11/dist-packages/ipykernel/kernelbase.py\u001b[0m in \u001b[0;36mraw_input\u001b[0;34m(self, prompt)\u001b[0m\n\u001b[1;32m   1175\u001b[0m                 \u001b[0;34m\"raw_input was called, but this frontend does not support input requests.\"\u001b[0m\u001b[0;34m\u001b[0m\u001b[0;34m\u001b[0m\u001b[0m\n\u001b[1;32m   1176\u001b[0m             )\n\u001b[0;32m-> 1177\u001b[0;31m         return self._input_request(\n\u001b[0m\u001b[1;32m   1178\u001b[0m             \u001b[0mstr\u001b[0m\u001b[0;34m(\u001b[0m\u001b[0mprompt\u001b[0m\u001b[0;34m)\u001b[0m\u001b[0;34m,\u001b[0m\u001b[0;34m\u001b[0m\u001b[0;34m\u001b[0m\u001b[0m\n\u001b[1;32m   1179\u001b[0m             \u001b[0mself\u001b[0m\u001b[0;34m.\u001b[0m\u001b[0m_parent_ident\u001b[0m\u001b[0;34m[\u001b[0m\u001b[0;34m\"shell\"\u001b[0m\u001b[0;34m]\u001b[0m\u001b[0;34m,\u001b[0m\u001b[0;34m\u001b[0m\u001b[0;34m\u001b[0m\u001b[0m\n",
            "\u001b[0;32m/usr/local/lib/python3.11/dist-packages/ipykernel/kernelbase.py\u001b[0m in \u001b[0;36m_input_request\u001b[0;34m(self, prompt, ident, parent, password)\u001b[0m\n\u001b[1;32m   1217\u001b[0m             \u001b[0;32mexcept\u001b[0m \u001b[0mKeyboardInterrupt\u001b[0m\u001b[0;34m:\u001b[0m\u001b[0;34m\u001b[0m\u001b[0;34m\u001b[0m\u001b[0m\n\u001b[1;32m   1218\u001b[0m                 \u001b[0;31m# re-raise KeyboardInterrupt, to truncate traceback\u001b[0m\u001b[0;34m\u001b[0m\u001b[0;34m\u001b[0m\u001b[0m\n\u001b[0;32m-> 1219\u001b[0;31m                 \u001b[0;32mraise\u001b[0m \u001b[0mKeyboardInterrupt\u001b[0m\u001b[0;34m(\u001b[0m\u001b[0;34m\"Interrupted by user\"\u001b[0m\u001b[0;34m)\u001b[0m \u001b[0;32mfrom\u001b[0m \u001b[0;32mNone\u001b[0m\u001b[0;34m\u001b[0m\u001b[0;34m\u001b[0m\u001b[0m\n\u001b[0m\u001b[1;32m   1220\u001b[0m             \u001b[0;32mexcept\u001b[0m \u001b[0mException\u001b[0m\u001b[0;34m:\u001b[0m\u001b[0;34m\u001b[0m\u001b[0;34m\u001b[0m\u001b[0m\n\u001b[1;32m   1221\u001b[0m                 \u001b[0mself\u001b[0m\u001b[0;34m.\u001b[0m\u001b[0mlog\u001b[0m\u001b[0;34m.\u001b[0m\u001b[0mwarning\u001b[0m\u001b[0;34m(\u001b[0m\u001b[0;34m\"Invalid Message:\"\u001b[0m\u001b[0;34m,\u001b[0m \u001b[0mexc_info\u001b[0m\u001b[0;34m=\u001b[0m\u001b[0;32mTrue\u001b[0m\u001b[0;34m)\u001b[0m\u001b[0;34m\u001b[0m\u001b[0;34m\u001b[0m\u001b[0m\n",
            "\u001b[0;31mKeyboardInterrupt\u001b[0m: Interrupted by user"
          ]
        }
      ]
    }
  ]
}