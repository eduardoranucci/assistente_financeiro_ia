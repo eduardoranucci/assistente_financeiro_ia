{
  "nbformat": 4,
  "nbformat_minor": 0,
  "metadata": {
    "colab": {
      "provenance": []
    },
    "kernelspec": {
      "name": "python3",
      "display_name": "Python 3"
    },
    "language_info": {
      "name": "python"
    }
  },
  "cells": [
    {
      "cell_type": "code",
      "execution_count": null,
      "metadata": {
        "colab": {
          "base_uri": "https://localhost:8080/"
        },
        "collapsed": true,
        "id": "iAPLf3_azxQX",
        "outputId": "9cc0a052-444c-4a0f-a312-112d1ed6b3ab"
      },
      "outputs": [
        {
          "output_type": "stream",
          "name": "stdout",
          "text": [
            "\u001b[?25l   \u001b[90m━━━━━━━━━━━━━━━━━━━━━━━━━━━━━━━━━━━━━━━━\u001b[0m \u001b[32m0.0/1.2 MB\u001b[0m \u001b[31m?\u001b[0m eta \u001b[36m-:--:--\u001b[0m\r\u001b[2K   \u001b[91m━━━━━━━━━━━━━━━━━━━━━━━━━━━━━━━━━━━━━━━\u001b[0m\u001b[91m╸\u001b[0m \u001b[32m1.2/1.2 MB\u001b[0m \u001b[31m55.9 MB/s\u001b[0m eta \u001b[36m0:00:01\u001b[0m\r\u001b[2K   \u001b[90m━━━━━━━━━━━━━━━━━━━━━━━━━━━━━━━━━━━━━━━━\u001b[0m \u001b[32m1.2/1.2 MB\u001b[0m \u001b[31m28.7 MB/s\u001b[0m eta \u001b[36m0:00:00\u001b[0m\n",
            "\u001b[?25h\u001b[?25l   \u001b[90m━━━━━━━━━━━━━━━━━━━━━━━━━━━━━━━━━━━━━━━━\u001b[0m \u001b[32m0.0/232.1 kB\u001b[0m \u001b[31m?\u001b[0m eta \u001b[36m-:--:--\u001b[0m\r\u001b[2K   \u001b[90m━━━━━━━━━━━━━━━━━━━━━━━━━━━━━━━━━━━━━━━━\u001b[0m \u001b[32m232.1/232.1 kB\u001b[0m \u001b[31m15.0 MB/s\u001b[0m eta \u001b[36m0:00:00\u001b[0m\n",
            "\u001b[?25h\u001b[?25l   \u001b[90m━━━━━━━━━━━━━━━━━━━━━━━━━━━━━━━━━━━━━━━━\u001b[0m \u001b[32m0.0/95.2 kB\u001b[0m \u001b[31m?\u001b[0m eta \u001b[36m-:--:--\u001b[0m\r\u001b[2K   \u001b[90m━━━━━━━━━━━━━━━━━━━━━━━━━━━━━━━━━━━━━━━━\u001b[0m \u001b[32m95.2/95.2 kB\u001b[0m \u001b[31m7.5 MB/s\u001b[0m eta \u001b[36m0:00:00\u001b[0m\n",
            "\u001b[?25h\u001b[?25l   \u001b[90m━━━━━━━━━━━━━━━━━━━━━━━━━━━━━━━━━━━━━━━━\u001b[0m \u001b[32m0.0/217.1 kB\u001b[0m \u001b[31m?\u001b[0m eta \u001b[36m-:--:--\u001b[0m\r\u001b[2K   \u001b[90m━━━━━━━━━━━━━━━━━━━━━━━━━━━━━━━━━━━━━━━━\u001b[0m \u001b[32m217.1/217.1 kB\u001b[0m \u001b[31m15.3 MB/s\u001b[0m eta \u001b[36m0:00:00\u001b[0m\n",
            "\u001b[2K   \u001b[90m━━━━━━━━━━━━━━━━━━━━━━━━━━━━━━━━━━━━━━━━\u001b[0m \u001b[32m334.1/334.1 kB\u001b[0m \u001b[31m23.1 MB/s\u001b[0m eta \u001b[36m0:00:00\u001b[0m\n",
            "\u001b[2K   \u001b[90m━━━━━━━━━━━━━━━━━━━━━━━━━━━━━━━━━━━━━━━━\u001b[0m \u001b[32m125.1/125.1 kB\u001b[0m \u001b[31m10.1 MB/s\u001b[0m eta \u001b[36m0:00:00\u001b[0m\n",
            "\u001b[2K   \u001b[90m━━━━━━━━━━━━━━━━━━━━━━━━━━━━━━━━━━━━━━━━\u001b[0m \u001b[32m65.8/65.8 kB\u001b[0m \u001b[31m4.7 MB/s\u001b[0m eta \u001b[36m0:00:00\u001b[0m\n",
            "\u001b[2K   \u001b[90m━━━━━━━━━━━━━━━━━━━━━━━━━━━━━━━━━━━━━━━━\u001b[0m \u001b[32m119.0/119.0 kB\u001b[0m \u001b[31m8.0 MB/s\u001b[0m eta \u001b[36m0:00:00\u001b[0m\n",
            "\u001b[2K   \u001b[90m━━━━━━━━━━━━━━━━━━━━━━━━━━━━━━━━━━━━━━━━\u001b[0m \u001b[32m194.9/194.9 kB\u001b[0m \u001b[31m14.5 MB/s\u001b[0m eta \u001b[36m0:00:00\u001b[0m\n",
            "\u001b[2K   \u001b[90m━━━━━━━━━━━━━━━━━━━━━━━━━━━━━━━━━━━━━━━━\u001b[0m \u001b[32m62.5/62.5 kB\u001b[0m \u001b[31m4.4 MB/s\u001b[0m eta \u001b[36m0:00:00\u001b[0m\n",
            "\u001b[2K   \u001b[90m━━━━━━━━━━━━━━━━━━━━━━━━━━━━━━━━━━━━━━━━\u001b[0m \u001b[32m103.3/103.3 kB\u001b[0m \u001b[31m8.6 MB/s\u001b[0m eta \u001b[36m0:00:00\u001b[0m\n",
            "\u001b[2K   \u001b[90m━━━━━━━━━━━━━━━━━━━━━━━━━━━━━━━━━━━━━━━━\u001b[0m \u001b[32m44.4/44.4 kB\u001b[0m \u001b[31m3.1 MB/s\u001b[0m eta \u001b[36m0:00:00\u001b[0m\n",
            "\u001b[2K   \u001b[90m━━━━━━━━━━━━━━━━━━━━━━━━━━━━━━━━━━━━━━━━\u001b[0m \u001b[32m72.0/72.0 kB\u001b[0m \u001b[31m6.4 MB/s\u001b[0m eta \u001b[36m0:00:00\u001b[0m\n",
            "\u001b[?25h"
          ]
        }
      ],
      "source": [
        "# Instalando as libs\n",
        "\n",
        "%pip install -q google-genai\n",
        "%pip install -q google-adk"
      ]
    },
    {
      "cell_type": "code",
      "source": [
        "# Importações\n",
        "\n",
        "from google.adk.sessions import InMemorySessionService\n",
        "from IPython.display import display, Markdown\n",
        "from google.adk.tools import google_search\n",
        "from google.adk.runners import Runner\n",
        "from google.adk.agents import Agent\n",
        "from google.colab import userdata\n",
        "import plotly.graph_objects as go\n",
        "#import matplotlib.pyplot as plt\n",
        "from google.genai import types\n",
        "from datetime import date\n",
        "from google import genai\n",
        "import textwrap\n",
        "import requests\n",
        "import warnings\n",
        "import json\n",
        "import os\n",
        "\n",
        "warnings.filterwarnings(\"ignore\")"
      ],
      "metadata": {
        "id": "fur2vQIyBlue"
      },
      "execution_count": 79,
      "outputs": []
    },
    {
      "cell_type": "code",
      "source": [
        "# Configura o cliente da SDK do Gemini\n",
        "\n",
        "os.environ[\"GOOGLE_API_KEY\"] = userdata.get('GOOGLE_API_KEY')\n",
        "\n",
        "client = genai.Client()\n",
        "\n",
        "MODEL = \"gemini-2.0-flash\""
      ],
      "metadata": {
        "id": "V21ZMxuRBnPs"
      },
      "execution_count": null,
      "outputs": []
    },
    {
      "cell_type": "code",
      "source": [
        "response = client.models.generate_content(\n",
        "    model=MODEL,\n",
        "    contents='Quando é a próxima Imersão IA com Google Gemini da Alura?',\n",
        ")\n",
        "\n",
        "display(Markdown(f\"Resposta:\\n {response.text}\"))"
      ],
      "metadata": {
        "id": "sUJmkntEBscU"
      },
      "execution_count": null,
      "outputs": []
    },
    {
      "cell_type": "code",
      "source": [
        "# Função auxiliar que envia uma mensagem para um agente via Runner e retorna a resposta final\n",
        "def call_agent(agent: Agent, message_text: str) -> str:\n",
        "    # Cria um serviço de sessão em memória\n",
        "    session_service = InMemorySessionService()\n",
        "    # Cria uma nova sessão (você pode personalizar os IDs conforme necessário)\n",
        "    session = session_service.create_session(app_name=agent.name, user_id=\"user1\", session_id=\"session1\")\n",
        "    # Cria um Runner para o agente\n",
        "    runner = Runner(agent=agent, app_name=agent.name, session_service=session_service)\n",
        "    # Cria o conteúdo da mensagem de entrada\n",
        "    content = types.Content(role=\"user\", parts=[types.Part(text=message_text)])\n",
        "\n",
        "    final_response = \"\"\n",
        "    # Itera assincronamente pelos eventos retornados durante a execução do agente\n",
        "    for event in runner.run(user_id=\"user1\", session_id=\"session1\", new_message=content):\n",
        "        if event.is_final_response():\n",
        "          for part in event.content.parts:\n",
        "            if part.text is not None:\n",
        "              final_response += part.text\n",
        "              final_response += \"\\n\"\n",
        "    return final_response"
      ],
      "metadata": {
        "id": "fXxAU7krCYrV"
      },
      "execution_count": null,
      "outputs": []
    },
    {
      "cell_type": "code",
      "source": [
        "# Função auxiliar para exibir texto formatado em Markdown no Colab\n",
        "def to_markdown(text):\n",
        "  text = text.replace('•', '  *')\n",
        "  return Markdown(textwrap.indent(text, '> ', predicate=lambda _: True))"
      ],
      "metadata": {
        "id": "867UprJPCawg"
      },
      "execution_count": null,
      "outputs": []
    },
    {
      "cell_type": "code",
      "source": [
        "# Agente 01 - Buscador de Métodos Financeiros\n",
        "def agente_buscador(renda_mensal):\n",
        "\n",
        "    buscador = Agent(\n",
        "        name=\"agente_buscador\",\n",
        "        model=\"gemini-2.0-flash\",\n",
        "        instruction=\"\"\"\n",
        "        Você é um assistente de pesquisa especializado em finanças pessoais.\n",
        "        Sua tarefa é usar a ferramenta de busca do Google (google_search) para encontrar os 5 métodos mais efetivos\n",
        "         e amplamente recomendados para organização financeira pessoal, considerando a renda mensal abaixo.\n",
        "\n",
        "        Ao realizar a pesquisa, priorize métodos que sejam:\n",
        "        - Especificamente adequados para o nível de renda fornecido (por exemplo, métodos para baixa renda, renda média, alta renda).\n",
        "        - Os métodos devem ser aplicáveis à realidade brasileira (ex.: considerar inflação, juros altos, etc.).\n",
        "        - Baseados em princípios sólidos de gestão financeira.\n",
        "        - Frequentemente mencionados e bem avaliados por especialistas e usuários.\n",
        "        - Que ofereçam exemplos ou estudos de caso relevantes para o nível de renda em questão.\n",
        "        - Descarte métodos genéricos ou irreais (ex.: \"ganhe mais dinheiro\" sem ações concretas).\n",
        "\n",
        "        Retorne uma lista concisa com o nome de cada método encontrado e um breve resumo de sua abordagem principal,\n",
        "        mencionando como ele se aplica a faixas de renda semelhantes à do usuário, se essa informação estiver disponível.\n",
        "        A lista deve estar em formato Markdown.\n",
        "        \"\"\",\n",
        "        description=\"Agente que busca métodos financeiros indicados a uma renda mensal no Google\",\n",
        "        tools=[google_search]\n",
        "    )\n",
        "\n",
        "    return call_agent(buscador, f\"Renda mensal: {renda_mensal}\")"
      ],
      "metadata": {
        "id": "qZQo-FvRC50j"
      },
      "execution_count": 65,
      "outputs": []
    },
    {
      "cell_type": "code",
      "source": [
        "# Agente 02 - Matemático\n",
        "def agente_matematico(renda_mensal, gastos):\n",
        "\n",
        "    matematico = Agent(\n",
        "        name=\"agente_matematico\",\n",
        "        model=\"gemini-2.0-flash\",\n",
        "        instruction=\"\"\"\n",
        "        Você é um analista matemático financeiro pessoal. Sua tarefa é receber a renda mensal do usuário\n",
        "        e seus gastos detalhados por categoria. Com base nessas informações,\n",
        "        você deve realizar os seguintes cálculos e análises:\n",
        "\n",
        "        1. Calcule o total de gastos mensais.\n",
        "        2. Calcule a porcentagem que cada categoria de gasto representa em relação à renda mensal total.\n",
        "        3. Calcule a diferença entre a renda mensal e o total de gastos (saldo mensal).\n",
        "        4. Calcule a taxa de poupança mensal atual (se o saldo for positivo).\n",
        "        5. Identifique as três maiores categorias de gastos em termos percentuais.\n",
        "\n",
        "        Retorne um dicionário ou estrutura de dados organizada contendo:\n",
        "        - Renda Mensal: [valor]\n",
        "        - Total de Gastos Mensais: [valor]\n",
        "        - Porcentagem de Gasto por Categoria: {categoria1: [porcentagem], categoria2: [porcentagem], ...}\n",
        "        - Saldo Mensal: [valor]\n",
        "        - Taxa de Poupança Mensal: [porcentagem] (se aplicável)\n",
        "        - Maiores Categorias de Gasto: [categoria1, categoria2, categoria3]\n",
        "        \"\"\",\n",
        "        description=\"Agente que analisa as finanças do usuário.\",\n",
        "    )\n",
        "\n",
        "    return call_agent(matematico, f\"Renda mensal: {renda_mensal}\\nGastos: {gastos}\")"
      ],
      "metadata": {
        "id": "GHkTTl6OD5Xk"
      },
      "execution_count": 66,
      "outputs": []
    },
    {
      "cell_type": "code",
      "source": [
        "# Agente 03 - Analista\n",
        "def agente_analista(dados, metodos):\n",
        "\n",
        "    analista = Agent(\n",
        "        name=\"agente_analista\",\n",
        "        model=\"gemini-2.0-flash\",\n",
        "        instruction=\"\"\"\n",
        "        Você é um consultor financeiro pessoal com expertise em diferentes métodos de organização financeira.\n",
        "        Sua tarefa é analisar os dados financeiros do usuário e os métodos de organização financeira encontrados.\n",
        "\n",
        "        Com base nessa análise, você deve:\n",
        "        1. Avaliar a situação financeira atual do usuário, identificando pontos fortes e áreas de melhoria (por exemplo, alta porcentagem de gastos em lazer, baixa taxa de poupança).\n",
        "        2. Comparar os padrões de gastos do usuário com os princípios de cada método de organização financeira.\n",
        "        3. Selecionar o método que melhor se adapta ao perfil financeiro do usuário, considerando seus maiores gastos,\n",
        "        sua taxa de poupança atual e o potencial de implementação do método. Justifique sua escolha com base nos dados analisados.\n",
        "\n",
        "        Retorne um dicionário ou estrutura de dados contendo:\n",
        "        - Análise da Situação Financeira: [um breve resumo da situação]\n",
        "        - Método Recomendado: [nome do método]\n",
        "        - Justificativa do Método: [explicação de por que este método é o mais adequado]\n",
        "        O retorno deve estar em formato Markdown.\n",
        "        \"\"\",\n",
        "        description=\"Agente que analisa as finanças do usuário.\",\n",
        "    )\n",
        "\n",
        "    return call_agent(analista, f\"Dados: {dados}\\nMétodos: {metodos}\")"
      ],
      "metadata": {
        "id": "7IMfly3DD78u"
      },
      "execution_count": 67,
      "outputs": []
    },
    {
      "cell_type": "code",
      "source": [
        "# Agente 04 - Orientador\n",
        "def agente_orientador(dados, analise):\n",
        "\n",
        "    orientador = Agent(\n",
        "        name=\"agente_orientador\",\n",
        "        model=\"gemini-2.0-flash\",\n",
        "        instruction=\"\"\"\n",
        "        Você é um orientador financeiro pessoal dedicado a ajudar os usuários a melhorar sua saúde financeira.\n",
        "        Sua tarefa é receber a análise do Agente Analista e os dados financeiros do Agente Matemático para fornecer orientações claras e práticas ao usuário,\n",
        "        juntamente com os dados estruturados necessários para a criação de gráficos.\n",
        "\n",
        "        Você deve retornar um dicionário contendo as seguintes chaves:\n",
        "\n",
        "        1.  'orientacao': Uma string contendo:\n",
        "            A explicação detalhada do método de organização financeira recomendado, seus princípios e como o usuário pode implementá-lo.\n",
        "            Sugestões específicas e acionáveis nos hábitos de gastos do usuário, com foco nas maiores categorias identificadas.\n",
        "            Quantifique o potencial de economia dessas mudanças, se possível.\n",
        "            A mensagem deve ser clara e motivadora para o usuário\n",
        "\n",
        "        2.  'dados_grafico_projecao': Um dicionário com os dados formatados para criar um gráfico de barras que represente a projeção da situação financeira do usuário após aplicar o método recomendado e seguir as mudanças sugeridas. **Este dicionário deve incluir todas as categorias de gasto presentes em 'dados_grafico_atual' (com os mesmos nomes), com seus valores ajustados de acordo com as orientações fornecidas. Novas categorias, como 'Poupança/Investimentos' ou 'Fundo de Emergência', podem ser adicionadas, desde que a soma de todos os valores projetados (incluindo as novas categorias) nunca ultrapasse o valor total da renda mensal.** Campos obrigatórios:\n",
        "            'labels': Lista com os nomes das categorias de gasto projetadas (devem incluir todas as categorias de 'dados_grafico_atual' com os mesmos nomes, além de quaisquer novas categorias como 'Poupança/Investimentos').\n",
        "            'valores': Lista com os valores em reais correspondentes a cada categoria, coerentes com os limites definidos pelo método e sem ultrapassar a renda. Os valores das categorias de gasto originais devem ser mantidos ou ajustados conforme as sugestões, mas as categorias devem permanecer.\n",
        "            'titulo': Título do gráfico (ex: 'Projeção Financeira Após Mudanças').\n",
        "\n",
        "        Certifique-se de que os dados nos dicionários `'dados_grafico_atual'` e `'dados_grafico_projecao'` estejam organizados de forma clara e lógica para facilitar a criação dos gráficos em um ambiente externo.\n",
        "        \"\"\",\n",
        "        description=\"Agente que orienta o usuário a como melhorar sua situação financeira.\",\n",
        "    )\n",
        "\n",
        "    return call_agent(orientador, f\"Dados: {dados}\\nAnálise: {analise}\")"
      ],
      "metadata": {
        "id": "2isQTrFbFTNr"
      },
      "execution_count": 97,
      "outputs": []
    },
    {
      "cell_type": "code",
      "source": [
        "def valida_valor(valor):\n",
        "  try:\n",
        "    if type(valor) == str:\n",
        "        valor = float(valor.replace(',', '.'))\n",
        "    if valor <= 0:\n",
        "      print('\\nValor deve ser maior que zero.')\n",
        "      return False\n",
        "    return valor\n",
        "  except ValueError:\n",
        "    print('\\nValor informado é invalido.')\n",
        "    return False\n",
        ""
      ],
      "metadata": {
        "id": "UObu1VQ1PHM4"
      },
      "execution_count": 30,
      "outputs": []
    },
    {
      "cell_type": "code",
      "source": [
        "print('🚀 Iniciando o Sistema de Auxílio Financeiro com 4 Agentes 🚀')\n",
        "\n",
        "renda_informada = False;\n",
        "while not renda_informada:\n",
        "\n",
        "  renda_mensal = valida_valor(input(\"\\n❓ Por favor, digite a sua renda mensal (ex: 1500,00): \"))\n",
        "  if renda_mensal:\n",
        "    print(f'\\nRenda informada: R$ {renda_mensal}')\n",
        "    renda_informada = True\n",
        "\n",
        "gastos = {}\n",
        "while True:\n",
        "  nome_gasto = input(\"\\n❓ Por favor, digite o nome do gasto que quer incluir (moradia): \")\n",
        "  valor_gasto = 0\n",
        "  while not valor_gasto:\n",
        "    valor_gasto = valida_valor(input(\"❓ Por favor, digite o valor do gasto (ex: 600,00): \"))\n",
        "  if valor_gasto:\n",
        "    gastos[nome_gasto] = valor_gasto\n",
        "    print(f'\\nGasto informado: {nome_gasto} - R$ {valor_gasto}')\n",
        "    if len(gastos) >= 3:\n",
        "      continuar = input(\"\\n❓ Gostaria de incluir mais um tipo de gasto? (S/N) \")\n",
        "      if continuar.upper() == 'S':\n",
        "        continue\n",
        "      else:\n",
        "        break\n",
        "\n",
        "print(f'\\nRenda informada: R$ {renda_mensal}')\n",
        "print(f'Gastos informados: {gastos}')\n",
        "print('\\nNossos agentes irão começar a analisar os dados...')\n",
        "\n",
        "buscador = agente_buscador(renda_mensal)\n",
        "print('\\n✅ Melhores métodos para sua renda mensal encontrados!')\n",
        "\n",
        "matematico = agente_matematico(renda_mensal, gastos)\n",
        "print('\\n✅ Cálculos realizados!')\n",
        "\n",
        "analista = agente_analista(matematico, buscador)\n",
        "print('\\n✅ Análise realizada!')\n",
        "\n",
        "orientador = agente_orientador(matematico, analista)\n",
        "#display(Markdown(orientador))\n",
        "\n",
        "inicio_json = orientador.find('{')\n",
        "fim_json = orientador.rfind('}')\n",
        "\n",
        "# Extrair apenas a parte do JSON\n",
        "if inicio_json != -1 and fim_json != -1:\n",
        "    json_string = orientador[inicio_json : fim_json + 1]\n",
        "    try:\n",
        "        # Converter a string JSON para um dicionário Python\n",
        "        resposta_orientador = json.loads(json_string)\n",
        "\n",
        "        # Acessando a orientação para o usuário\n",
        "        orientacao_usuario = resposta_orientador['orientacao']\n",
        "        print('\\n📈 Orientação do Agente Orientador 📈\\n')\n",
        "        display(Markdown(orientacao_usuario))\n",
        "\n",
        "        # Acessando os dados para o gráfico da situação atual\n",
        "        labels = list(gastos.keys())\n",
        "        valores = list(gastos.values())\n",
        "\n",
        "        # Gráfico da situação atual\n",
        "        fig_atual = go.Figure()\n",
        "\n",
        "        fig_atual.add_trace(go.Bar(\n",
        "            x=labels,\n",
        "            y=valores,\n",
        "            name='Gastos Atuais',\n",
        "            marker_color='indianred'\n",
        "        ))\n",
        "\n",
        "        fig_atual.update_layout(\n",
        "            title=\"Situação Financeira Atual\",\n",
        "            xaxis_title=\"Categorias\",\n",
        "            yaxis_title=\"Valores (R$)\",\n",
        "            barmode='group'\n",
        "        )\n",
        "\n",
        "        fig_atual.show()\n",
        "\n",
        "        print()\n",
        "\n",
        "        dados_projecao = resposta_orientador['dados_grafico_projecao']\n",
        "        labels_projecao = dados_projecao['labels']\n",
        "        valores_projecao = dados_projecao['valores']\n",
        "        titulo_projecao = dados_projecao['titulo']\n",
        "\n",
        "        # Gráfico da projeção\n",
        "        fig_proj = go.Figure()\n",
        "\n",
        "        fig_proj.add_trace(go.Bar(\n",
        "            x=dados_projecao['labels'],\n",
        "            y=dados_projecao['valores'],\n",
        "            name='Projeção',\n",
        "            marker_color='royalblue'\n",
        "        ))\n",
        "\n",
        "        fig_proj.update_layout(\n",
        "            title=dados_projecao['titulo'],\n",
        "            xaxis_title=\"Categorias\",\n",
        "            yaxis_title=\"Valores (R$)\",\n",
        "            barmode='group'\n",
        "        )\n",
        "\n",
        "        fig_proj.show()\n",
        "\n",
        "    except json.JSONDecodeError as e:\n",
        "        print(f\"Erro ao decodificar JSON: {e}\")\n",
        "        print(f\"String JSON com problema: {json_string}\")\n",
        "else:\n",
        "    print(\"Não foi possível encontrar um objeto JSON válido na string.\")\n"
      ],
      "metadata": {
        "id": "vcFSOxiUGEdz",
        "colab": {
          "base_uri": "https://localhost:8080/",
          "height": 1000
        },
        "outputId": "27795abd-237a-4222-96fd-832faebb9992"
      },
      "execution_count": 103,
      "outputs": [
        {
          "output_type": "stream",
          "name": "stdout",
          "text": [
            "🚀 Iniciando o Sistema de Auxílio Financeiro com 4 Agentes 🚀\n",
            "\n",
            "Renda informada: R$ 4000.0\n",
            "Gastos informados: {'moradia': 1000, 'alimentacao': 800, 'transporte': 400}\n",
            "\n",
            "Nossos agentes irão começar a analisar os dados...\n",
            "\n",
            "✅ Melhores métodos para sua renda mensal encontrados!\n",
            "\n",
            "✅ Cálculos realizados!\n",
            "\n",
            "✅ Análise realizada!\n",
            "\n",
            "📈 Orientação do Agente Orientador 📈\n",
            "\n"
          ]
        },
        {
          "output_type": "display_data",
          "data": {
            "text/plain": [
              "<IPython.core.display.Markdown object>"
            ],
            "text/markdown": "Para otimizar ainda mais sua situação financeira, sugiro implementar o método 50/30/20. Este método aloca 50% da sua renda para necessidades, 30% para desejos e 20% para prioridades financeiras, como poupança e investimentos.\n\n**Implementação:**\n\n*   **Necessidades (50%):** R$2000. Esta categoria cobre moradia, alimentação e transporte. Como seus gastos nessas áreas já consomem uma parte significativa da sua renda, tente otimizar ainda mais. Por exemplo, procure alternativas de transporte mais econômicas ou planeje suas refeições para evitar gastos excessivos com alimentação fora de casa.\n*   **Desejos (30%):** R$1200. Esta categoria é para lazer, hobbies e outras despesas não essenciais. Seja consciente com esses gastos e priorize aqueles que realmente trazem satisfação.\n*   **Prioridades Financeiras (20%):** R$800. Continue focando em poupança e investimentos. Se possível, considere aumentar essa porcentagem para acelerar seus objetivos financeiros.\n\n**Sugestões Acionáveis:**\n\n*   **Moradia:** Revise seus gastos com moradia. Se possível, considere opções mais acessíveis ou negocie o valor do aluguel. Pequenas reduções aqui podem gerar economias significativas a longo prazo.\n*   **Alimentação:** Planeje suas refeições semanalmente e evite comer fora com frequência. Cozinhar em casa pode reduzir seus gastos com alimentação em até 30%.\n*   **Transporte:** Se possível, utilize transporte público ou bicicleta em vez de carro. Além de economizar dinheiro, você estará contribuindo para um estilo de vida mais sustentável.\n\nAo seguir estas orientações, você estará no controle de suas finanças e poderá alcançar seus objetivos financeiros com mais segurança e tranquilidade. Lembre-se, pequenas mudanças nos hábitos de gastos podem gerar grandes resultados a longo prazo!"
          },
          "metadata": {}
        },
        {
          "output_type": "display_data",
          "data": {
            "text/html": [
              "<html>\n",
              "<head><meta charset=\"utf-8\" /></head>\n",
              "<body>\n",
              "    <div>            <script src=\"https://cdnjs.cloudflare.com/ajax/libs/mathjax/2.7.5/MathJax.js?config=TeX-AMS-MML_SVG\"></script><script type=\"text/javascript\">if (window.MathJax && window.MathJax.Hub && window.MathJax.Hub.Config) {window.MathJax.Hub.Config({SVG: {font: \"STIX-Web\"}});}</script>                <script type=\"text/javascript\">window.PlotlyConfig = {MathJaxConfig: 'local'};</script>\n",
              "        <script charset=\"utf-8\" src=\"https://cdn.plot.ly/plotly-2.35.2.min.js\"></script>                <div id=\"ccf8e2d3-846e-4881-9c62-13c830490a39\" class=\"plotly-graph-div\" style=\"height:525px; width:100%;\"></div>            <script type=\"text/javascript\">                                    window.PLOTLYENV=window.PLOTLYENV || {};                                    if (document.getElementById(\"ccf8e2d3-846e-4881-9c62-13c830490a39\")) {                    Plotly.newPlot(                        \"ccf8e2d3-846e-4881-9c62-13c830490a39\",                        [{\"marker\":{\"color\":\"indianred\"},\"name\":\"Gastos Atuais\",\"x\":[\"moradia\",\"alimentacao\",\"transporte\"],\"y\":[1000,800,400],\"type\":\"bar\"}],                        {\"template\":{\"data\":{\"histogram2dcontour\":[{\"type\":\"histogram2dcontour\",\"colorbar\":{\"outlinewidth\":0,\"ticks\":\"\"},\"colorscale\":[[0.0,\"#0d0887\"],[0.1111111111111111,\"#46039f\"],[0.2222222222222222,\"#7201a8\"],[0.3333333333333333,\"#9c179e\"],[0.4444444444444444,\"#bd3786\"],[0.5555555555555556,\"#d8576b\"],[0.6666666666666666,\"#ed7953\"],[0.7777777777777778,\"#fb9f3a\"],[0.8888888888888888,\"#fdca26\"],[1.0,\"#f0f921\"]]}],\"choropleth\":[{\"type\":\"choropleth\",\"colorbar\":{\"outlinewidth\":0,\"ticks\":\"\"}}],\"histogram2d\":[{\"type\":\"histogram2d\",\"colorbar\":{\"outlinewidth\":0,\"ticks\":\"\"},\"colorscale\":[[0.0,\"#0d0887\"],[0.1111111111111111,\"#46039f\"],[0.2222222222222222,\"#7201a8\"],[0.3333333333333333,\"#9c179e\"],[0.4444444444444444,\"#bd3786\"],[0.5555555555555556,\"#d8576b\"],[0.6666666666666666,\"#ed7953\"],[0.7777777777777778,\"#fb9f3a\"],[0.8888888888888888,\"#fdca26\"],[1.0,\"#f0f921\"]]}],\"heatmap\":[{\"type\":\"heatmap\",\"colorbar\":{\"outlinewidth\":0,\"ticks\":\"\"},\"colorscale\":[[0.0,\"#0d0887\"],[0.1111111111111111,\"#46039f\"],[0.2222222222222222,\"#7201a8\"],[0.3333333333333333,\"#9c179e\"],[0.4444444444444444,\"#bd3786\"],[0.5555555555555556,\"#d8576b\"],[0.6666666666666666,\"#ed7953\"],[0.7777777777777778,\"#fb9f3a\"],[0.8888888888888888,\"#fdca26\"],[1.0,\"#f0f921\"]]}],\"heatmapgl\":[{\"type\":\"heatmapgl\",\"colorbar\":{\"outlinewidth\":0,\"ticks\":\"\"},\"colorscale\":[[0.0,\"#0d0887\"],[0.1111111111111111,\"#46039f\"],[0.2222222222222222,\"#7201a8\"],[0.3333333333333333,\"#9c179e\"],[0.4444444444444444,\"#bd3786\"],[0.5555555555555556,\"#d8576b\"],[0.6666666666666666,\"#ed7953\"],[0.7777777777777778,\"#fb9f3a\"],[0.8888888888888888,\"#fdca26\"],[1.0,\"#f0f921\"]]}],\"contourcarpet\":[{\"type\":\"contourcarpet\",\"colorbar\":{\"outlinewidth\":0,\"ticks\":\"\"}}],\"contour\":[{\"type\":\"contour\",\"colorbar\":{\"outlinewidth\":0,\"ticks\":\"\"},\"colorscale\":[[0.0,\"#0d0887\"],[0.1111111111111111,\"#46039f\"],[0.2222222222222222,\"#7201a8\"],[0.3333333333333333,\"#9c179e\"],[0.4444444444444444,\"#bd3786\"],[0.5555555555555556,\"#d8576b\"],[0.6666666666666666,\"#ed7953\"],[0.7777777777777778,\"#fb9f3a\"],[0.8888888888888888,\"#fdca26\"],[1.0,\"#f0f921\"]]}],\"surface\":[{\"type\":\"surface\",\"colorbar\":{\"outlinewidth\":0,\"ticks\":\"\"},\"colorscale\":[[0.0,\"#0d0887\"],[0.1111111111111111,\"#46039f\"],[0.2222222222222222,\"#7201a8\"],[0.3333333333333333,\"#9c179e\"],[0.4444444444444444,\"#bd3786\"],[0.5555555555555556,\"#d8576b\"],[0.6666666666666666,\"#ed7953\"],[0.7777777777777778,\"#fb9f3a\"],[0.8888888888888888,\"#fdca26\"],[1.0,\"#f0f921\"]]}],\"mesh3d\":[{\"type\":\"mesh3d\",\"colorbar\":{\"outlinewidth\":0,\"ticks\":\"\"}}],\"scatter\":[{\"fillpattern\":{\"fillmode\":\"overlay\",\"size\":10,\"solidity\":0.2},\"type\":\"scatter\"}],\"parcoords\":[{\"type\":\"parcoords\",\"line\":{\"colorbar\":{\"outlinewidth\":0,\"ticks\":\"\"}}}],\"scatterpolargl\":[{\"type\":\"scatterpolargl\",\"marker\":{\"colorbar\":{\"outlinewidth\":0,\"ticks\":\"\"}}}],\"bar\":[{\"error_x\":{\"color\":\"#2a3f5f\"},\"error_y\":{\"color\":\"#2a3f5f\"},\"marker\":{\"line\":{\"color\":\"#E5ECF6\",\"width\":0.5},\"pattern\":{\"fillmode\":\"overlay\",\"size\":10,\"solidity\":0.2}},\"type\":\"bar\"}],\"scattergeo\":[{\"type\":\"scattergeo\",\"marker\":{\"colorbar\":{\"outlinewidth\":0,\"ticks\":\"\"}}}],\"scatterpolar\":[{\"type\":\"scatterpolar\",\"marker\":{\"colorbar\":{\"outlinewidth\":0,\"ticks\":\"\"}}}],\"histogram\":[{\"marker\":{\"pattern\":{\"fillmode\":\"overlay\",\"size\":10,\"solidity\":0.2}},\"type\":\"histogram\"}],\"scattergl\":[{\"type\":\"scattergl\",\"marker\":{\"colorbar\":{\"outlinewidth\":0,\"ticks\":\"\"}}}],\"scatter3d\":[{\"type\":\"scatter3d\",\"line\":{\"colorbar\":{\"outlinewidth\":0,\"ticks\":\"\"}},\"marker\":{\"colorbar\":{\"outlinewidth\":0,\"ticks\":\"\"}}}],\"scattermapbox\":[{\"type\":\"scattermapbox\",\"marker\":{\"colorbar\":{\"outlinewidth\":0,\"ticks\":\"\"}}}],\"scatterternary\":[{\"type\":\"scatterternary\",\"marker\":{\"colorbar\":{\"outlinewidth\":0,\"ticks\":\"\"}}}],\"scattercarpet\":[{\"type\":\"scattercarpet\",\"marker\":{\"colorbar\":{\"outlinewidth\":0,\"ticks\":\"\"}}}],\"carpet\":[{\"aaxis\":{\"endlinecolor\":\"#2a3f5f\",\"gridcolor\":\"white\",\"linecolor\":\"white\",\"minorgridcolor\":\"white\",\"startlinecolor\":\"#2a3f5f\"},\"baxis\":{\"endlinecolor\":\"#2a3f5f\",\"gridcolor\":\"white\",\"linecolor\":\"white\",\"minorgridcolor\":\"white\",\"startlinecolor\":\"#2a3f5f\"},\"type\":\"carpet\"}],\"table\":[{\"cells\":{\"fill\":{\"color\":\"#EBF0F8\"},\"line\":{\"color\":\"white\"}},\"header\":{\"fill\":{\"color\":\"#C8D4E3\"},\"line\":{\"color\":\"white\"}},\"type\":\"table\"}],\"barpolar\":[{\"marker\":{\"line\":{\"color\":\"#E5ECF6\",\"width\":0.5},\"pattern\":{\"fillmode\":\"overlay\",\"size\":10,\"solidity\":0.2}},\"type\":\"barpolar\"}],\"pie\":[{\"automargin\":true,\"type\":\"pie\"}]},\"layout\":{\"autotypenumbers\":\"strict\",\"colorway\":[\"#636efa\",\"#EF553B\",\"#00cc96\",\"#ab63fa\",\"#FFA15A\",\"#19d3f3\",\"#FF6692\",\"#B6E880\",\"#FF97FF\",\"#FECB52\"],\"font\":{\"color\":\"#2a3f5f\"},\"hovermode\":\"closest\",\"hoverlabel\":{\"align\":\"left\"},\"paper_bgcolor\":\"white\",\"plot_bgcolor\":\"#E5ECF6\",\"polar\":{\"bgcolor\":\"#E5ECF6\",\"angularaxis\":{\"gridcolor\":\"white\",\"linecolor\":\"white\",\"ticks\":\"\"},\"radialaxis\":{\"gridcolor\":\"white\",\"linecolor\":\"white\",\"ticks\":\"\"}},\"ternary\":{\"bgcolor\":\"#E5ECF6\",\"aaxis\":{\"gridcolor\":\"white\",\"linecolor\":\"white\",\"ticks\":\"\"},\"baxis\":{\"gridcolor\":\"white\",\"linecolor\":\"white\",\"ticks\":\"\"},\"caxis\":{\"gridcolor\":\"white\",\"linecolor\":\"white\",\"ticks\":\"\"}},\"coloraxis\":{\"colorbar\":{\"outlinewidth\":0,\"ticks\":\"\"}},\"colorscale\":{\"sequential\":[[0.0,\"#0d0887\"],[0.1111111111111111,\"#46039f\"],[0.2222222222222222,\"#7201a8\"],[0.3333333333333333,\"#9c179e\"],[0.4444444444444444,\"#bd3786\"],[0.5555555555555556,\"#d8576b\"],[0.6666666666666666,\"#ed7953\"],[0.7777777777777778,\"#fb9f3a\"],[0.8888888888888888,\"#fdca26\"],[1.0,\"#f0f921\"]],\"sequentialminus\":[[0.0,\"#0d0887\"],[0.1111111111111111,\"#46039f\"],[0.2222222222222222,\"#7201a8\"],[0.3333333333333333,\"#9c179e\"],[0.4444444444444444,\"#bd3786\"],[0.5555555555555556,\"#d8576b\"],[0.6666666666666666,\"#ed7953\"],[0.7777777777777778,\"#fb9f3a\"],[0.8888888888888888,\"#fdca26\"],[1.0,\"#f0f921\"]],\"diverging\":[[0,\"#8e0152\"],[0.1,\"#c51b7d\"],[0.2,\"#de77ae\"],[0.3,\"#f1b6da\"],[0.4,\"#fde0ef\"],[0.5,\"#f7f7f7\"],[0.6,\"#e6f5d0\"],[0.7,\"#b8e186\"],[0.8,\"#7fbc41\"],[0.9,\"#4d9221\"],[1,\"#276419\"]]},\"xaxis\":{\"gridcolor\":\"white\",\"linecolor\":\"white\",\"ticks\":\"\",\"title\":{\"standoff\":15},\"zerolinecolor\":\"white\",\"automargin\":true,\"zerolinewidth\":2},\"yaxis\":{\"gridcolor\":\"white\",\"linecolor\":\"white\",\"ticks\":\"\",\"title\":{\"standoff\":15},\"zerolinecolor\":\"white\",\"automargin\":true,\"zerolinewidth\":2},\"scene\":{\"xaxis\":{\"backgroundcolor\":\"#E5ECF6\",\"gridcolor\":\"white\",\"linecolor\":\"white\",\"showbackground\":true,\"ticks\":\"\",\"zerolinecolor\":\"white\",\"gridwidth\":2},\"yaxis\":{\"backgroundcolor\":\"#E5ECF6\",\"gridcolor\":\"white\",\"linecolor\":\"white\",\"showbackground\":true,\"ticks\":\"\",\"zerolinecolor\":\"white\",\"gridwidth\":2},\"zaxis\":{\"backgroundcolor\":\"#E5ECF6\",\"gridcolor\":\"white\",\"linecolor\":\"white\",\"showbackground\":true,\"ticks\":\"\",\"zerolinecolor\":\"white\",\"gridwidth\":2}},\"shapedefaults\":{\"line\":{\"color\":\"#2a3f5f\"}},\"annotationdefaults\":{\"arrowcolor\":\"#2a3f5f\",\"arrowhead\":0,\"arrowwidth\":1},\"geo\":{\"bgcolor\":\"white\",\"landcolor\":\"#E5ECF6\",\"subunitcolor\":\"white\",\"showland\":true,\"showlakes\":true,\"lakecolor\":\"white\"},\"title\":{\"x\":0.05},\"mapbox\":{\"style\":\"light\"}}},\"title\":{\"text\":\"Situação Financeira Atual\"},\"xaxis\":{\"title\":{\"text\":\"Categorias\"}},\"yaxis\":{\"title\":{\"text\":\"Valores (R$)\"}},\"barmode\":\"group\"},                        {\"responsive\": true}                    ).then(function(){\n",
              "                            \n",
              "var gd = document.getElementById('ccf8e2d3-846e-4881-9c62-13c830490a39');\n",
              "var x = new MutationObserver(function (mutations, observer) {{\n",
              "        var display = window.getComputedStyle(gd).display;\n",
              "        if (!display || display === 'none') {{\n",
              "            console.log([gd, 'removed!']);\n",
              "            Plotly.purge(gd);\n",
              "            observer.disconnect();\n",
              "        }}\n",
              "}});\n",
              "\n",
              "// Listen for the removal of the full notebook cells\n",
              "var notebookContainer = gd.closest('#notebook-container');\n",
              "if (notebookContainer) {{\n",
              "    x.observe(notebookContainer, {childList: true});\n",
              "}}\n",
              "\n",
              "// Listen for the clearing of the current output cell\n",
              "var outputEl = gd.closest('.output');\n",
              "if (outputEl) {{\n",
              "    x.observe(outputEl, {childList: true});\n",
              "}}\n",
              "\n",
              "                        })                };                            </script>        </div>\n",
              "</body>\n",
              "</html>"
            ]
          },
          "metadata": {}
        },
        {
          "output_type": "stream",
          "name": "stdout",
          "text": [
            "\n"
          ]
        },
        {
          "output_type": "display_data",
          "data": {
            "text/html": [
              "<html>\n",
              "<head><meta charset=\"utf-8\" /></head>\n",
              "<body>\n",
              "    <div>            <script src=\"https://cdnjs.cloudflare.com/ajax/libs/mathjax/2.7.5/MathJax.js?config=TeX-AMS-MML_SVG\"></script><script type=\"text/javascript\">if (window.MathJax && window.MathJax.Hub && window.MathJax.Hub.Config) {window.MathJax.Hub.Config({SVG: {font: \"STIX-Web\"}});}</script>                <script type=\"text/javascript\">window.PlotlyConfig = {MathJaxConfig: 'local'};</script>\n",
              "        <script charset=\"utf-8\" src=\"https://cdn.plot.ly/plotly-2.35.2.min.js\"></script>                <div id=\"8a71476f-998b-49da-b4af-49554c28a54a\" class=\"plotly-graph-div\" style=\"height:525px; width:100%;\"></div>            <script type=\"text/javascript\">                                    window.PLOTLYENV=window.PLOTLYENV || {};                                    if (document.getElementById(\"8a71476f-998b-49da-b4af-49554c28a54a\")) {                    Plotly.newPlot(                        \"8a71476f-998b-49da-b4af-49554c28a54a\",                        [{\"marker\":{\"color\":\"royalblue\"},\"name\":\"Projeção\",\"x\":[\"moradia\",\"alimentacao\",\"transporte\",\"Lazer\",\"Outros Desejos\",\"Poupança\\u002fInvestimentos\"],\"y\":[1000.0,600.0,400.0,700.0,500.0,800.0],\"type\":\"bar\"}],                        {\"template\":{\"data\":{\"histogram2dcontour\":[{\"type\":\"histogram2dcontour\",\"colorbar\":{\"outlinewidth\":0,\"ticks\":\"\"},\"colorscale\":[[0.0,\"#0d0887\"],[0.1111111111111111,\"#46039f\"],[0.2222222222222222,\"#7201a8\"],[0.3333333333333333,\"#9c179e\"],[0.4444444444444444,\"#bd3786\"],[0.5555555555555556,\"#d8576b\"],[0.6666666666666666,\"#ed7953\"],[0.7777777777777778,\"#fb9f3a\"],[0.8888888888888888,\"#fdca26\"],[1.0,\"#f0f921\"]]}],\"choropleth\":[{\"type\":\"choropleth\",\"colorbar\":{\"outlinewidth\":0,\"ticks\":\"\"}}],\"histogram2d\":[{\"type\":\"histogram2d\",\"colorbar\":{\"outlinewidth\":0,\"ticks\":\"\"},\"colorscale\":[[0.0,\"#0d0887\"],[0.1111111111111111,\"#46039f\"],[0.2222222222222222,\"#7201a8\"],[0.3333333333333333,\"#9c179e\"],[0.4444444444444444,\"#bd3786\"],[0.5555555555555556,\"#d8576b\"],[0.6666666666666666,\"#ed7953\"],[0.7777777777777778,\"#fb9f3a\"],[0.8888888888888888,\"#fdca26\"],[1.0,\"#f0f921\"]]}],\"heatmap\":[{\"type\":\"heatmap\",\"colorbar\":{\"outlinewidth\":0,\"ticks\":\"\"},\"colorscale\":[[0.0,\"#0d0887\"],[0.1111111111111111,\"#46039f\"],[0.2222222222222222,\"#7201a8\"],[0.3333333333333333,\"#9c179e\"],[0.4444444444444444,\"#bd3786\"],[0.5555555555555556,\"#d8576b\"],[0.6666666666666666,\"#ed7953\"],[0.7777777777777778,\"#fb9f3a\"],[0.8888888888888888,\"#fdca26\"],[1.0,\"#f0f921\"]]}],\"heatmapgl\":[{\"type\":\"heatmapgl\",\"colorbar\":{\"outlinewidth\":0,\"ticks\":\"\"},\"colorscale\":[[0.0,\"#0d0887\"],[0.1111111111111111,\"#46039f\"],[0.2222222222222222,\"#7201a8\"],[0.3333333333333333,\"#9c179e\"],[0.4444444444444444,\"#bd3786\"],[0.5555555555555556,\"#d8576b\"],[0.6666666666666666,\"#ed7953\"],[0.7777777777777778,\"#fb9f3a\"],[0.8888888888888888,\"#fdca26\"],[1.0,\"#f0f921\"]]}],\"contourcarpet\":[{\"type\":\"contourcarpet\",\"colorbar\":{\"outlinewidth\":0,\"ticks\":\"\"}}],\"contour\":[{\"type\":\"contour\",\"colorbar\":{\"outlinewidth\":0,\"ticks\":\"\"},\"colorscale\":[[0.0,\"#0d0887\"],[0.1111111111111111,\"#46039f\"],[0.2222222222222222,\"#7201a8\"],[0.3333333333333333,\"#9c179e\"],[0.4444444444444444,\"#bd3786\"],[0.5555555555555556,\"#d8576b\"],[0.6666666666666666,\"#ed7953\"],[0.7777777777777778,\"#fb9f3a\"],[0.8888888888888888,\"#fdca26\"],[1.0,\"#f0f921\"]]}],\"surface\":[{\"type\":\"surface\",\"colorbar\":{\"outlinewidth\":0,\"ticks\":\"\"},\"colorscale\":[[0.0,\"#0d0887\"],[0.1111111111111111,\"#46039f\"],[0.2222222222222222,\"#7201a8\"],[0.3333333333333333,\"#9c179e\"],[0.4444444444444444,\"#bd3786\"],[0.5555555555555556,\"#d8576b\"],[0.6666666666666666,\"#ed7953\"],[0.7777777777777778,\"#fb9f3a\"],[0.8888888888888888,\"#fdca26\"],[1.0,\"#f0f921\"]]}],\"mesh3d\":[{\"type\":\"mesh3d\",\"colorbar\":{\"outlinewidth\":0,\"ticks\":\"\"}}],\"scatter\":[{\"fillpattern\":{\"fillmode\":\"overlay\",\"size\":10,\"solidity\":0.2},\"type\":\"scatter\"}],\"parcoords\":[{\"type\":\"parcoords\",\"line\":{\"colorbar\":{\"outlinewidth\":0,\"ticks\":\"\"}}}],\"scatterpolargl\":[{\"type\":\"scatterpolargl\",\"marker\":{\"colorbar\":{\"outlinewidth\":0,\"ticks\":\"\"}}}],\"bar\":[{\"error_x\":{\"color\":\"#2a3f5f\"},\"error_y\":{\"color\":\"#2a3f5f\"},\"marker\":{\"line\":{\"color\":\"#E5ECF6\",\"width\":0.5},\"pattern\":{\"fillmode\":\"overlay\",\"size\":10,\"solidity\":0.2}},\"type\":\"bar\"}],\"scattergeo\":[{\"type\":\"scattergeo\",\"marker\":{\"colorbar\":{\"outlinewidth\":0,\"ticks\":\"\"}}}],\"scatterpolar\":[{\"type\":\"scatterpolar\",\"marker\":{\"colorbar\":{\"outlinewidth\":0,\"ticks\":\"\"}}}],\"histogram\":[{\"marker\":{\"pattern\":{\"fillmode\":\"overlay\",\"size\":10,\"solidity\":0.2}},\"type\":\"histogram\"}],\"scattergl\":[{\"type\":\"scattergl\",\"marker\":{\"colorbar\":{\"outlinewidth\":0,\"ticks\":\"\"}}}],\"scatter3d\":[{\"type\":\"scatter3d\",\"line\":{\"colorbar\":{\"outlinewidth\":0,\"ticks\":\"\"}},\"marker\":{\"colorbar\":{\"outlinewidth\":0,\"ticks\":\"\"}}}],\"scattermapbox\":[{\"type\":\"scattermapbox\",\"marker\":{\"colorbar\":{\"outlinewidth\":0,\"ticks\":\"\"}}}],\"scatterternary\":[{\"type\":\"scatterternary\",\"marker\":{\"colorbar\":{\"outlinewidth\":0,\"ticks\":\"\"}}}],\"scattercarpet\":[{\"type\":\"scattercarpet\",\"marker\":{\"colorbar\":{\"outlinewidth\":0,\"ticks\":\"\"}}}],\"carpet\":[{\"aaxis\":{\"endlinecolor\":\"#2a3f5f\",\"gridcolor\":\"white\",\"linecolor\":\"white\",\"minorgridcolor\":\"white\",\"startlinecolor\":\"#2a3f5f\"},\"baxis\":{\"endlinecolor\":\"#2a3f5f\",\"gridcolor\":\"white\",\"linecolor\":\"white\",\"minorgridcolor\":\"white\",\"startlinecolor\":\"#2a3f5f\"},\"type\":\"carpet\"}],\"table\":[{\"cells\":{\"fill\":{\"color\":\"#EBF0F8\"},\"line\":{\"color\":\"white\"}},\"header\":{\"fill\":{\"color\":\"#C8D4E3\"},\"line\":{\"color\":\"white\"}},\"type\":\"table\"}],\"barpolar\":[{\"marker\":{\"line\":{\"color\":\"#E5ECF6\",\"width\":0.5},\"pattern\":{\"fillmode\":\"overlay\",\"size\":10,\"solidity\":0.2}},\"type\":\"barpolar\"}],\"pie\":[{\"automargin\":true,\"type\":\"pie\"}]},\"layout\":{\"autotypenumbers\":\"strict\",\"colorway\":[\"#636efa\",\"#EF553B\",\"#00cc96\",\"#ab63fa\",\"#FFA15A\",\"#19d3f3\",\"#FF6692\",\"#B6E880\",\"#FF97FF\",\"#FECB52\"],\"font\":{\"color\":\"#2a3f5f\"},\"hovermode\":\"closest\",\"hoverlabel\":{\"align\":\"left\"},\"paper_bgcolor\":\"white\",\"plot_bgcolor\":\"#E5ECF6\",\"polar\":{\"bgcolor\":\"#E5ECF6\",\"angularaxis\":{\"gridcolor\":\"white\",\"linecolor\":\"white\",\"ticks\":\"\"},\"radialaxis\":{\"gridcolor\":\"white\",\"linecolor\":\"white\",\"ticks\":\"\"}},\"ternary\":{\"bgcolor\":\"#E5ECF6\",\"aaxis\":{\"gridcolor\":\"white\",\"linecolor\":\"white\",\"ticks\":\"\"},\"baxis\":{\"gridcolor\":\"white\",\"linecolor\":\"white\",\"ticks\":\"\"},\"caxis\":{\"gridcolor\":\"white\",\"linecolor\":\"white\",\"ticks\":\"\"}},\"coloraxis\":{\"colorbar\":{\"outlinewidth\":0,\"ticks\":\"\"}},\"colorscale\":{\"sequential\":[[0.0,\"#0d0887\"],[0.1111111111111111,\"#46039f\"],[0.2222222222222222,\"#7201a8\"],[0.3333333333333333,\"#9c179e\"],[0.4444444444444444,\"#bd3786\"],[0.5555555555555556,\"#d8576b\"],[0.6666666666666666,\"#ed7953\"],[0.7777777777777778,\"#fb9f3a\"],[0.8888888888888888,\"#fdca26\"],[1.0,\"#f0f921\"]],\"sequentialminus\":[[0.0,\"#0d0887\"],[0.1111111111111111,\"#46039f\"],[0.2222222222222222,\"#7201a8\"],[0.3333333333333333,\"#9c179e\"],[0.4444444444444444,\"#bd3786\"],[0.5555555555555556,\"#d8576b\"],[0.6666666666666666,\"#ed7953\"],[0.7777777777777778,\"#fb9f3a\"],[0.8888888888888888,\"#fdca26\"],[1.0,\"#f0f921\"]],\"diverging\":[[0,\"#8e0152\"],[0.1,\"#c51b7d\"],[0.2,\"#de77ae\"],[0.3,\"#f1b6da\"],[0.4,\"#fde0ef\"],[0.5,\"#f7f7f7\"],[0.6,\"#e6f5d0\"],[0.7,\"#b8e186\"],[0.8,\"#7fbc41\"],[0.9,\"#4d9221\"],[1,\"#276419\"]]},\"xaxis\":{\"gridcolor\":\"white\",\"linecolor\":\"white\",\"ticks\":\"\",\"title\":{\"standoff\":15},\"zerolinecolor\":\"white\",\"automargin\":true,\"zerolinewidth\":2},\"yaxis\":{\"gridcolor\":\"white\",\"linecolor\":\"white\",\"ticks\":\"\",\"title\":{\"standoff\":15},\"zerolinecolor\":\"white\",\"automargin\":true,\"zerolinewidth\":2},\"scene\":{\"xaxis\":{\"backgroundcolor\":\"#E5ECF6\",\"gridcolor\":\"white\",\"linecolor\":\"white\",\"showbackground\":true,\"ticks\":\"\",\"zerolinecolor\":\"white\",\"gridwidth\":2},\"yaxis\":{\"backgroundcolor\":\"#E5ECF6\",\"gridcolor\":\"white\",\"linecolor\":\"white\",\"showbackground\":true,\"ticks\":\"\",\"zerolinecolor\":\"white\",\"gridwidth\":2},\"zaxis\":{\"backgroundcolor\":\"#E5ECF6\",\"gridcolor\":\"white\",\"linecolor\":\"white\",\"showbackground\":true,\"ticks\":\"\",\"zerolinecolor\":\"white\",\"gridwidth\":2}},\"shapedefaults\":{\"line\":{\"color\":\"#2a3f5f\"}},\"annotationdefaults\":{\"arrowcolor\":\"#2a3f5f\",\"arrowhead\":0,\"arrowwidth\":1},\"geo\":{\"bgcolor\":\"white\",\"landcolor\":\"#E5ECF6\",\"subunitcolor\":\"white\",\"showland\":true,\"showlakes\":true,\"lakecolor\":\"white\"},\"title\":{\"x\":0.05},\"mapbox\":{\"style\":\"light\"}}},\"title\":{\"text\":\"Projeção Financeira Após Mudanças\"},\"xaxis\":{\"title\":{\"text\":\"Categorias\"}},\"yaxis\":{\"title\":{\"text\":\"Valores (R$)\"}},\"barmode\":\"group\"},                        {\"responsive\": true}                    ).then(function(){\n",
              "                            \n",
              "var gd = document.getElementById('8a71476f-998b-49da-b4af-49554c28a54a');\n",
              "var x = new MutationObserver(function (mutations, observer) {{\n",
              "        var display = window.getComputedStyle(gd).display;\n",
              "        if (!display || display === 'none') {{\n",
              "            console.log([gd, 'removed!']);\n",
              "            Plotly.purge(gd);\n",
              "            observer.disconnect();\n",
              "        }}\n",
              "}});\n",
              "\n",
              "// Listen for the removal of the full notebook cells\n",
              "var notebookContainer = gd.closest('#notebook-container');\n",
              "if (notebookContainer) {{\n",
              "    x.observe(notebookContainer, {childList: true});\n",
              "}}\n",
              "\n",
              "// Listen for the clearing of the current output cell\n",
              "var outputEl = gd.closest('.output');\n",
              "if (outputEl) {{\n",
              "    x.observe(outputEl, {childList: true});\n",
              "}}\n",
              "\n",
              "                        })                };                            </script>        </div>\n",
              "</body>\n",
              "</html>"
            ]
          },
          "metadata": {}
        }
      ]
    }
  ]
}